{
 "cells": [
  {
   "cell_type": "markdown",
   "id": "690b6945-c392-481c-890a-92044ab30987",
   "metadata": {},
   "source": [
    "# Data Science Tools and Ecosystem"
   ]
  },
  {
   "cell_type": "markdown",
   "id": "4eb64dd0-e0ef-4386-819b-0535f96492f3",
   "metadata": {},
   "source": [
    "In this notebook, Data Science Tools and Ecosystem are summarized."
   ]
  },
  {
   "cell_type": "markdown",
   "id": "549db1c0-7df5-47be-aa1f-ce2f54669477",
   "metadata": {
    "tags": []
   },
   "source": [
    "Some of the popular languages that Data Scientists use are:"
   ]
  },
  {
   "cell_type": "markdown",
   "id": "4a0054fc-26b1-4b7e-8400-a80c5980ddb4",
   "metadata": {},
   "source": [
    "1. Python\n",
    "2. R\n",
    "3. SQL\n",
    "4. Ruby\n",
    "5. Java"
   ]
  },
  {
   "cell_type": "markdown",
   "id": "d7ec3971-cc47-4106-917f-501afc821f4f",
   "metadata": {},
   "source": [
    "Some of the commonly used libraries used by Data Scientists include:"
   ]
  },
  {
   "cell_type": "markdown",
   "id": "2ea9298e-2cee-4a23-9036-08e0effd5703",
   "metadata": {},
   "source": [
    "1. Pandas\n",
    "2. Numpy\n",
    "3. Tensorflow\n",
    "4. Keras\n",
    "5. Pytorch"
   ]
  },
  {
   "cell_type": "markdown",
   "id": "7e621184-6a01-4ee1-af60-538c621c4e56",
   "metadata": {},
   "source": [
    "| Data Science Tools |\n",
    "| ------------------ |\n",
    "| Python |\n",
    "| Apache Spark |\n",
    "| Git and Github |\n",
    "| Jupyter |\n",
    "| Tableau |"
   ]
  },
  {
   "cell_type": "markdown",
   "id": "79de8799-bae8-4c74-b57d-ee52431a4588",
   "metadata": {},
   "source": [
    "### Below are a few examples of evaluating arithmetic expressions in Python"
   ]
  },
  {
   "cell_type": "markdown",
   "id": "f51a1783-7e3d-4e22-b60c-8e7dc877892a",
   "metadata": {},
   "source": [
    "This a simple arithmetic expression to multiply then add integers"
   ]
  },
  {
   "cell_type": "code",
   "execution_count": 2,
   "id": "828cf76a-4894-4af5-8dc3-96c29b8fcb05",
   "metadata": {
    "tags": []
   },
   "outputs": [
    {
     "data": {
      "text/plain": [
       "17"
      ]
     },
     "execution_count": 2,
     "metadata": {},
     "output_type": "execute_result"
    }
   ],
   "source": [
    "# (3*4)+5\n",
    "(3*4)+5"
   ]
  },
  {
   "cell_type": "markdown",
   "id": "d12ab09d-8237-4937-9876-4e61a7aa1b18",
   "metadata": {},
   "source": [
    "This will convert 200 minutes to hours by diving by 60"
   ]
  },
  {
   "cell_type": "code",
   "execution_count": 3,
   "id": "39c63b72-6405-49cb-ae0d-74d30c4366a2",
   "metadata": {
    "tags": []
   },
   "outputs": [
    {
     "data": {
      "text/plain": [
       "3.3333333333333335"
      ]
     },
     "execution_count": 3,
     "metadata": {},
     "output_type": "execute_result"
    }
   ],
   "source": [
    "200/60"
   ]
  },
  {
   "cell_type": "markdown",
   "id": "72e66b8a-2536-4051-8883-f2c92b4c5b39",
   "metadata": {},
   "source": [
    "__Objectives:__"
   ]
  },
  {
   "cell_type": "markdown",
   "id": "22071813-a23f-40a7-8eb5-47d942588f13",
   "metadata": {},
   "source": [
    "- List Important open source tools of Data Science \n",
    "- List Important commercial tools of Data Science \n",
    "- Intro To R and Rstudio\n",
    "- Intro To Jupyter\n",
    "- Intro to Git and Github "
   ]
  },
  {
   "cell_type": "markdown",
   "id": "b3c23cfa-6a39-4eb5-93fb-dd43d80dc833",
   "metadata": {},
   "source": [
    "## Author"
   ]
  },
  {
   "cell_type": "markdown",
   "id": "5ae536aa-72d7-443e-8c94-4df8ce1bb78c",
   "metadata": {},
   "source": [
    "Pranav Chopra"
   ]
  },
  {
   "cell_type": "code",
   "execution_count": null,
   "id": "8678bd84-5038-410e-b9f4-22605dc90035",
   "metadata": {},
   "outputs": [],
   "source": []
  }
 ],
 "metadata": {
  "kernelspec": {
   "display_name": "Python",
   "language": "python",
   "name": "conda-env-python-py"
  },
  "language_info": {
   "codemirror_mode": {
    "name": "ipython",
    "version": 3
   },
   "file_extension": ".py",
   "mimetype": "text/x-python",
   "name": "python",
   "nbconvert_exporter": "python",
   "pygments_lexer": "ipython3",
   "version": "3.7.12"
  }
 },
 "nbformat": 4,
 "nbformat_minor": 5
}
